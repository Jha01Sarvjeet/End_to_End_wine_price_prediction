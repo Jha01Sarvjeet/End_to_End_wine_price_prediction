{
 "cells": [
  {
   "metadata": {
    "ExecuteTime": {
     "end_time": "2025-06-28T14:33:15.204920Z",
     "start_time": "2025-06-28T14:33:15.197990Z"
    }
   },
   "cell_type": "code",
   "source": "print(\"radhe\")",
   "id": "b1b26a876547cbe4",
   "outputs": [
    {
     "name": "stdout",
     "output_type": "stream",
     "text": [
      "radhe\n"
     ]
    }
   ],
   "execution_count": 6
  }
 ],
 "metadata": {},
 "nbformat": 4,
 "nbformat_minor": 5
}
