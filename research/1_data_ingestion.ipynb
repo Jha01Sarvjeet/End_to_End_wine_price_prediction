{
 "cells": [
  {
   "cell_type": "code",
   "execution_count": 67,
   "id": "42b968bf",
   "metadata": {
    "ExecuteTime": {
     "end_time": "2025-06-28T14:42:26.803101Z",
     "start_time": "2025-06-28T14:42:26.788277Z"
    }
   },
   "outputs": [
    {
     "data": {
      "text/plain": [
       "\"e:\\\\Father's_Document\\\\code\\\\MlOps_project\\\\End_to_End_wine_price_prediction\""
      ]
     },
     "execution_count": 67,
     "metadata": {},
     "output_type": "execute_result"
    }
   ],
   "source": [
    "%pwd"
   ]
  },
  {
   "cell_type": "code",
   "execution_count": 68,
   "id": "7ccbdc8a",
   "metadata": {},
   "outputs": [
    {
     "name": "stdout",
     "output_type": "stream",
     "text": [
      "Current Working Directory: e:\\Father's_Document\\code\\MlOps_project\\End_to_End_wine_price_prediction\n"
     ]
    }
   ],
   "source": [
    "import os\n",
    "print(\"Current Working Directory:\", os.getcwd())\n"
   ]
  },
  {
   "cell_type": "code",
   "execution_count": 69,
   "id": "3fdde402",
   "metadata": {},
   "outputs": [],
   "source": [
    "os.chdir(\"e:\\\\Father's_Document\\\\code\\\\MlOps_project\\\\End_to_End_wine_price_prediction\")\n"
   ]
  },
  {
   "cell_type": "code",
   "execution_count": 70,
   "id": "710bca17",
   "metadata": {
    "ExecuteTime": {
     "end_time": "2025-06-28T14:42:27.110701Z",
     "start_time": "2025-06-28T14:42:27.101684Z"
    }
   },
   "outputs": [
    {
     "data": {
      "text/plain": [
       "\"e:\\\\Father's_Document\\\\code\\\\MlOps_project\\\\End_to_End_wine_price_prediction\""
      ]
     },
     "execution_count": 70,
     "metadata": {},
     "output_type": "execute_result"
    }
   ],
   "source": [
    "%pwd"
   ]
  },
  {
   "cell_type": "code",
   "execution_count": null,
   "id": "19d15593",
   "metadata": {
    "ExecuteTime": {
     "end_time": "2025-06-28T14:42:27.179830Z",
     "start_time": "2025-06-28T14:42:27.173943Z"
    }
   },
   "outputs": [],
   "source": [
    "from dataclasses import dataclass\n",
    "from pathlib import Path\n",
    "\n",
    "\n",
    "@dataclass\n",
    "class DataIngestionConfig:\n",
    "    root_dir: Path\n",
    "    source_url: str\n",
    "    local_data_file: Path\n",
    "    unzip_dir: Path\n",
    "\n",
    "\n"
   ]
  },
  {
   "cell_type": "code",
   "execution_count": 72,
   "id": "6e20d7a4",
   "metadata": {
    "ExecuteTime": {
     "end_time": "2025-06-28T15:01:37.974480Z",
     "start_time": "2025-06-28T15:01:37.970124Z"
    }
   },
   "outputs": [],
   "source": [
    "from src.wine_qulity_predction.constants import *\n",
    "from src.wine_qulity_predction.utils.common import read_yaml, create_directories\n",
    "\n",
    "\n",
    "class ConfiguarationManager:\n",
    "    def __init__(self,\n",
    "                 config_filepath=CONFIG_FILE_PATH,\n",
    "                 params_filepath=PARAMS_FILE_PATH,\n",
    "                 schema_filepath=SCHEMA_FILE_PATH, ):\n",
    "\n",
    "\n",
    "        self.config = read_yaml(config_filepath)\n",
    "        self.params = read_yaml(params_filepath)\n",
    "        self.schema = read_yaml(schema_filepath)\n",
    "\n",
    "        create_directories([self.config.artifacts_root])\n",
    "\n",
    "    def get_data_ingestion_config(self) -> DataIngestionConfig:\n",
    "        config = self.config.data_ingestion\n",
    "        create_directories([config.root_dir])\n",
    "\n",
    "        data_ingestion_config = DataIngestionConfig(root_dir=config.root_dir,\n",
    "                                                     source_url=config.source_url,\n",
    "                                                     local_data_file=config.local_data_file,\n",
    "                                                     unzip_dir=config.unzip_dir\n",
    "                                                     )\n",
    "\n",
    "        return data_ingestion_config"
   ]
  },
  {
   "cell_type": "code",
   "execution_count": 73,
   "id": "1e444db9",
   "metadata": {},
   "outputs": [],
   "source": [
    "from urllib import request\n",
    "from src.wine_qulity_predction import logger\n",
    "import zipfile\n",
    "import os"
   ]
  },
  {
   "cell_type": "code",
   "execution_count": 74,
   "id": "5b5e8218",
   "metadata": {
    "ExecuteTime": {
     "end_time": "2025-06-28T14:42:27.538672Z",
     "start_time": "2025-06-28T14:42:27.533591Z"
    }
   },
   "outputs": [],
   "source": [
    "class DataIngestion:\n",
    "    def __init__(self,config: DataIngestionConfig):\n",
    "        self.config = config\n",
    "\n",
    "\n",
    "    #downloading the zip file\n",
    "    def download_file(self):\n",
    "        if not os.path.exists(self.config.local_data_file):\n",
    "            filename,headers=request.urlretrieve(url=self.config.source_url,\n",
    "                                                filename=self.config.local_data_file)\n",
    "            logger.info(f\"{filename } download with following info {headers}\")\n",
    "\n",
    "        else:\n",
    "            logger.info(f\"file already exists\")\n",
    "\n",
    "    def zip_file_extract(self):\n",
    "        \"\"\" zip file path: str\n",
    "        extracts the zip into  the data directory\n",
    "        Function returns None\n",
    "        \"\"\"\n",
    "\n",
    "        unzip_path=self.config.unzip_dir\n",
    "        os.makedirs(unzip_path,exist_ok=True)\n",
    "        with zipfile.ZipFile(self.config.local_data_file,'r') as zip_ref:\n",
    "            zip_ref.extractall(unzip_path)\n",
    "\n",
    "\n"
   ]
  },
  {
   "cell_type": "code",
   "execution_count": null,
   "id": "2f9ea794",
   "metadata": {},
   "outputs": [
    {
     "name": "stdout",
     "output_type": "stream",
     "text": [
      "[2025-06-29 17:33:57,822 : INFO : common : yaml file : config\\config.yml loadded successfully] \n",
      "[2025-06-29 17:33:57,822 : INFO : common : yaml file : params.yml loadded successfully] \n",
      "[2025-06-29 17:33:57,822 : INFO : common : yaml file : schema.yml loadded successfully] \n",
      "[2025-06-29 17:33:57,822 : INFO : common : Created directory at {path}] \n",
      "[2025-06-29 17:33:57,828 : INFO : common : Created directory at {path}] \n",
      "[2025-06-29 17:33:58,771 : INFO : 687310088 : artifacts/data_ingestion/data.zip download with following info Connection: close\n",
      "Content-Length: 23329\n",
      "Cache-Control: max-age=300\n",
      "Content-Security-Policy: default-src 'none'; style-src 'unsafe-inline'; sandbox\n",
      "Content-Type: application/zip\n",
      "ETag: \"c69888a4ae59bc5a893392785a938ccd4937981c06ba8a9d6a21aa52b4ab5b6e\"\n",
      "Strict-Transport-Security: max-age=31536000\n",
      "X-Content-Type-Options: nosniff\n",
      "X-Frame-Options: deny\n",
      "X-XSS-Protection: 1; mode=block\n",
      "X-GitHub-Request-Id: 6885:2827B:178BA5:47A945:686123D7\n",
      "Accept-Ranges: bytes\n",
      "Date: Sun, 29 Jun 2025 12:03:58 GMT\n",
      "Via: 1.1 varnish\n",
      "X-Served-By: cache-maa10221-MAA\n",
      "X-Cache: HIT\n",
      "X-Cache-Hits: 0\n",
      "X-Timer: S1751198639.768753,VS0,VE1\n",
      "Vary: Authorization,Accept-Encoding\n",
      "Access-Control-Allow-Origin: *\n",
      "Cross-Origin-Resource-Policy: cross-origin\n",
      "X-Fastly-Request-ID: ded0a91835b1e675dfb88a213153924047826705\n",
      "Expires: Sun, 29 Jun 2025 12:08:58 GMT\n",
      "Source-Age: 237\n",
      "\n",
      "] \n"
     ]
    }
   ],
   "source": [
    "try:\n",
    "    config=ConfiguarationManager()\n",
    "    data_ingestion_config=config.get_data_ingestion_config()\n",
    "    data_inegestion=DataIngestion(data_ingestion_config)\n",
    "    data_inegestion.download_file()\n",
    "    data_inegestion.zip_file_extract()\n",
    "except Exception as e  :\n",
    "    raise e\n"
   ]
  }
 ],
 "metadata": {
  "kernelspec": {
   "display_name": "Python 3",
   "language": "python",
   "name": "python3"
  },
  "language_info": {
   "codemirror_mode": {
    "name": "ipython",
    "version": 3
   },
   "file_extension": ".py",
   "mimetype": "text/x-python",
   "name": "python",
   "nbconvert_exporter": "python",
   "pygments_lexer": "ipython3",
   "version": "3.10.0"
  }
 },
 "nbformat": 4,
 "nbformat_minor": 5
}
