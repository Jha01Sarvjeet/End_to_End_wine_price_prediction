{
 "cells": [
  {
   "cell_type": "code",
   "id": "initial_id",
   "metadata": {
    "collapsed": true,
    "ExecuteTime": {
     "end_time": "2025-07-01T07:21:05.174346Z",
     "start_time": "2025-07-01T07:21:05.169547Z"
    }
   },
   "source": "",
   "outputs": [],
   "execution_count": null
  },
  {
   "metadata": {
    "ExecuteTime": {
     "end_time": "2025-07-01T07:21:05.195422Z",
     "start_time": "2025-07-01T07:21:05.191409Z"
    }
   },
   "cell_type": "code",
   "source": [
    "import os\n",
    "\n",
    "os.chdir('../')"
   ],
   "id": "a0e3c1c60e4c493a",
   "outputs": [],
   "execution_count": 49
  },
  {
   "metadata": {
    "ExecuteTime": {
     "end_time": "2025-07-01T07:21:05.217761Z",
     "start_time": "2025-07-01T07:21:05.212527Z"
    }
   },
   "cell_type": "code",
   "source": "pwd",
   "id": "12965a0462309998",
   "outputs": [
    {
     "data": {
      "text/plain": [
       "\"E:\\\\Father's_Document\\\\code\\\\MlOps_project\""
      ]
     },
     "execution_count": 50,
     "metadata": {},
     "output_type": "execute_result"
    }
   ],
   "execution_count": 50
  },
  {
   "metadata": {
    "ExecuteTime": {
     "end_time": "2025-07-01T07:21:05.238500Z",
     "start_time": "2025-07-01T07:21:05.233241Z"
    }
   },
   "cell_type": "code",
   "source": "os.chdir(f\"E:\\\\Father's_Document\\\\code\\\\MlOps_project\\\\End_to_End_wine_price_prediction\")",
   "id": "f37225b521e92542",
   "outputs": [],
   "execution_count": 51
  },
  {
   "metadata": {
    "ExecuteTime": {
     "end_time": "2025-07-01T07:21:05.254534Z",
     "start_time": "2025-07-01T07:21:05.251060Z"
    }
   },
   "cell_type": "code",
   "source": [
    "os.environ['MLFLOW_TRACKING_URI'] = 'https://dagshub.com/Jha01Sarvjeet/End_to_End_wine_quality_prediction.mlflow'\n",
    "os.environ['MLFLOW_TRACKING_USERNAME'] = 'Jha01Sarvjeet'\n",
    "os.environ['MLFLOW_TRACKING_PASSWORD'] = 'd746f73e322061c0553fb781ba70e90f616aa10d'"
   ],
   "id": "5e3a0928f8dfb780",
   "outputs": [],
   "execution_count": 52
  },
  {
   "metadata": {
    "ExecuteTime": {
     "end_time": "2025-07-01T07:21:05.279533Z",
     "start_time": "2025-07-01T07:21:05.274140Z"
    }
   },
   "cell_type": "code",
   "source": [
    "from dataclasses import dataclass\n",
    "from pathlib import Path\n",
    "\n",
    "\n",
    "@dataclass\n",
    "class ModelEvaluationConfig:\n",
    "    root_dir: Path\n",
    "    test_data_path: Path\n",
    "    model_path: Path\n",
    "    metric_file_name: Path\n",
    "    all_params: dict\n",
    "    target_column: str\n",
    "    mlflow_uri: str"
   ],
   "id": "6d300f481348f1",
   "outputs": [],
   "execution_count": 53
  },
  {
   "metadata": {
    "ExecuteTime": {
     "end_time": "2025-07-01T07:21:05.302874Z",
     "start_time": "2025-07-01T07:21:05.298570Z"
    }
   },
   "cell_type": "code",
   "source": [
    "from src.wine_qulity_predction.utils.common import read_yaml, create_directories, save_json\n",
    "from src.wine_qulity_predction.constants import *"
   ],
   "id": "8691a13957680967",
   "outputs": [],
   "execution_count": 54
  },
  {
   "metadata": {
    "ExecuteTime": {
     "end_time": "2025-07-01T07:21:05.316468Z",
     "start_time": "2025-07-01T07:21:05.308136Z"
    }
   },
   "cell_type": "code",
   "source": [
    "class ModelConfiguratoinManager:\n",
    "    def __init__(self, config_filepath=CONFIG_FILE_PATH,\n",
    "                 schema_filepath=SCHEMA_FILE_PATH,\n",
    "                 params_filepath=PARAMS_FILE_PATH, ):\n",
    "        self.config = read_yaml(config_filepath)\n",
    "        self.schema = read_yaml(schema_filepath)\n",
    "        self.params = read_yaml(params_filepath)\n",
    "\n",
    "        create_directories([self.config.artifacts_root])\n",
    "\n",
    "    def get_model_evaluation_config(self) -> ModelEvaluationConfig:\n",
    "        config = self.config.model_evaluation\n",
    "        params = self.params.ElasticNet\n",
    "        schema = self.schema.TARGET\n",
    "        create_directories([config.root_dir])\n",
    "\n",
    "        model_evaluation_config = ModelEvaluationConfig(root_dir=config.root_dir,\n",
    "                                                        test_data_path=config.test_data_path,\n",
    "                                                        model_path=config.model_path,\n",
    "                                                        metric_file_name=config.metric_file_name,\n",
    "                                                        all_params=params,\n",
    "                                                        mlflow_uri='https://dagshub.com/Jha01Sarvjeet/End_to_End_wine_quality_prediction.mlflow',\n",
    "                                                        target_column=schema.name,\n",
    "                                                        )\n",
    "\n",
    "        return model_evaluation_config\n",
    "\n",
    "\n",
    "\n",
    "\n",
    "\n",
    "\n"
   ],
   "id": "76dc380a94c3ef4a",
   "outputs": [],
   "execution_count": 55
  },
  {
   "metadata": {
    "ExecuteTime": {
     "end_time": "2025-07-01T07:21:05.330484Z",
     "start_time": "2025-07-01T07:21:05.326402Z"
    }
   },
   "cell_type": "code",
   "source": [
    "import numpy as np\n",
    "import pandas as pd\n",
    "import mlflow\n",
    "import joblib\n",
    "from urllib.parse import urlparse\n",
    "import mlflow.sklearn\n",
    "from urllib.parse import urlparse\n",
    "from sklearn.metrics import mean_absolute_error, root_mean_squared_error, mean_squared_error, r2_score"
   ],
   "id": "b06cbb7c513a4b3c",
   "outputs": [],
   "execution_count": 56
  },
  {
   "metadata": {
    "ExecuteTime": {
     "end_time": "2025-07-01T07:21:05.347370Z",
     "start_time": "2025-07-01T07:21:05.340156Z"
    }
   },
   "cell_type": "code",
   "source": [
    "class MedelEvaluation:\n",
    "    def __init__(self, config: ModelEvaluationConfig):\n",
    "        self.config = config\n",
    "\n",
    "    def eval_metrics(self, actual, pred):\n",
    "        rmse = root_mean_squared_error(actual, pred)\n",
    "        mae = mean_absolute_error(actual, pred)\n",
    "        r2 = r2_score(actual, pred)\n",
    "        return rmse, mae, r2\n",
    "\n",
    "    def log_into_mlflow(self, ):\n",
    "        test_data = pd.read_csv(self.config.test_data_path)\n",
    "        model = joblib.load(self.config.model_path)\n",
    "\n",
    "        test_x = test_data.drop([self.config.target_column], axis=1)\n",
    "        test_y = test_data[self.config.target_column]\n",
    "\n",
    "        mlflow.set_registry_uri(self.config.mlflow_uri)\n",
    "        tracking_url_type_parse = urlparse(mlflow.get_tracking_uri()).scheme\n",
    "\n",
    "        with mlflow.start_run():\n",
    "            predicted_qualities = model.predict(test_x)\n",
    "            (rmse, mae, r2) = self.eval_metrics(test_y, predicted_qualities)\n",
    "\n",
    "            #saving metrics as local\n",
    "            scores = {'rmse': rmse, 'mae': mae, 'r2': r2}\n",
    "            save_json(path=Path(self.config.metric_file_name), data=scores)\n",
    "\n",
    "            mlflow.log_params(self.config.all_params)\n",
    "            mlflow.log_metric(\"rmse\", rmse)\n",
    "            mlflow.log_metric(\"mae\", mae)\n",
    "            mlflow.log_metric(\"r2\", r2)\n",
    "\n",
    "            #model registry does not work with file store\n",
    "            if tracking_url_type_parse != 'file':\n",
    "                mlflow.sklearn.log_model(\n",
    "                sk_model=model,\n",
    "                artifact_path=\"model\",\n",
    "                # Remove any newer parameters that might cause issues\n",
    "            )\n",
    "\n",
    "\n",
    "\n",
    "            else:\n",
    "                mlflow.sklearn.log_model(sk_model=model, artifact_path=\"model\")\n",
    "\n",
    "\n",
    "\n",
    "\n",
    "\n",
    "\n",
    "\n"
   ],
   "id": "473840490e5c4ff7",
   "outputs": [],
   "execution_count": 57
  },
  {
   "metadata": {
    "ExecuteTime": {
     "end_time": "2025-07-01T07:21:05.391184Z",
     "start_time": "2025-07-01T07:21:05.386465Z"
    }
   },
   "cell_type": "code",
   "source": "pwd",
   "id": "29442de62b42974",
   "outputs": [
    {
     "data": {
      "text/plain": [
       "\"E:\\\\Father's_Document\\\\code\\\\MlOps_project\\\\End_to_End_wine_price_prediction\""
      ]
     },
     "execution_count": 59,
     "metadata": {},
     "output_type": "execute_result"
    }
   ],
   "execution_count": 59
  },
  {
   "metadata": {
    "ExecuteTime": {
     "end_time": "2025-07-01T07:21:14.709524Z",
     "start_time": "2025-07-01T07:21:05.401868Z"
    }
   },
   "cell_type": "code",
   "source": [
    "try:\n",
    "    config = ModelConfiguratoinManager()\n",
    "    model_evaluation_config = config.get_model_evaluation_config()\n",
    "\n",
    "    model_evaluation = MedelEvaluation(config=model_evaluation_config)\n",
    "    model_evaluation.log_into_mlflow()\n",
    "except Exception as e:\n",
    "    raise e"
   ],
   "id": "d42f95897a1e2ab2",
   "outputs": [
    {
     "name": "stdout",
     "output_type": "stream",
     "text": [
      "[2025-07-01 12:51:05,401 : INFO : common : yaml file : config\\config.yml loadded successfully] \n",
      "[2025-07-01 12:51:05,401 : INFO : common : yaml file : schema.yml loadded successfully] \n",
      "[2025-07-01 12:51:05,401 : INFO : common : yaml file : params.yml loadded successfully] \n",
      "[2025-07-01 12:51:05,401 : INFO : common : Created directory at artifacts] \n",
      "[2025-07-01 12:51:05,401 : INFO : common : Created directory at artifacts/model_evaluation] \n",
      "[2025-07-01 12:51:06,206 : INFO : common : json file saved at artifacts\\model_evaluation\\metrics.json] \n"
     ]
    }
   ],
   "execution_count": 60
  }
 ],
 "metadata": {
  "kernelspec": {
   "display_name": "Python 3",
   "language": "python",
   "name": "python3"
  },
  "language_info": {
   "codemirror_mode": {
    "name": "ipython",
    "version": 2
   },
   "file_extension": ".py",
   "mimetype": "text/x-python",
   "name": "python",
   "nbconvert_exporter": "python",
   "pygments_lexer": "ipython2",
   "version": "2.7.6"
  }
 },
 "nbformat": 4,
 "nbformat_minor": 5
}
