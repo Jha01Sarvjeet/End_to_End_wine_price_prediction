{
 "cells": [
  {
   "cell_type": "code",
   "id": "e81e1e1c",
   "metadata": {
    "ExecuteTime": {
     "end_time": "2025-06-30T14:32:50.753668Z",
     "start_time": "2025-06-30T14:32:50.749759Z"
    }
   },
   "source": [
    "import os"
   ],
   "outputs": [],
   "execution_count": 34
  },
  {
   "cell_type": "code",
   "id": "e3743e5b",
   "metadata": {
    "ExecuteTime": {
     "end_time": "2025-06-30T14:32:50.772166Z",
     "start_time": "2025-06-30T14:32:50.767475Z"
    }
   },
   "source": [
    "pwd"
   ],
   "outputs": [
    {
     "data": {
      "text/plain": [
       "\"E:\\\\Father's_Document\\\\code\\\\MlOps_project\\\\End_to_End_wine_price_prediction\""
      ]
     },
     "execution_count": 35,
     "metadata": {},
     "output_type": "execute_result"
    }
   ],
   "execution_count": 35
  },
  {
   "cell_type": "code",
   "id": "a9a36a71",
   "metadata": {
    "ExecuteTime": {
     "end_time": "2025-06-30T14:32:50.785628Z",
     "start_time": "2025-06-30T14:32:50.781556Z"
    }
   },
   "source": [
    "os.chdir(f\"E:\\\\Father's_Document\\\\code\\\\MlOps_project\\\\End_to_End_wine_price_prediction\")"
   ],
   "outputs": [],
   "execution_count": 36
  },
  {
   "cell_type": "code",
   "id": "bed672fb",
   "metadata": {
    "ExecuteTime": {
     "end_time": "2025-06-30T14:32:50.800155Z",
     "start_time": "2025-06-30T14:32:50.794616Z"
    }
   },
   "source": [
    "%pwd"
   ],
   "outputs": [
    {
     "data": {
      "text/plain": [
       "\"E:\\\\Father's_Document\\\\code\\\\MlOps_project\\\\End_to_End_wine_price_prediction\""
      ]
     },
     "execution_count": 37,
     "metadata": {},
     "output_type": "execute_result"
    }
   ],
   "execution_count": 37
  },
  {
   "metadata": {
    "ExecuteTime": {
     "end_time": "2025-06-30T14:32:50.818273Z",
     "start_time": "2025-06-30T14:32:50.814582Z"
    }
   },
   "cell_type": "code",
   "source": [
    "import pandas as pd\n",
    "import numpy as np"
   ],
   "id": "e6ac7689500e13f3",
   "outputs": [],
   "execution_count": 38
  },
  {
   "metadata": {
    "ExecuteTime": {
     "end_time": "2025-06-30T14:32:50.831530Z",
     "start_time": "2025-06-30T14:32:50.827722Z"
    }
   },
   "cell_type": "code",
   "source": [
    "from dataclasses import dataclass\n",
    "from pathlib import Path\n",
    "\n",
    "@dataclass\n",
    "class ModelTrainingConfig:\n",
    "    root_dir: Path\n",
    "    train_data_path: str\n",
    "    test_data_path: Path\n",
    "    model_name: str\n",
    "    alpha: float\n",
    "    l1_ratio: float\n",
    "    target_column: str"
   ],
   "id": "8644e20cdeaf4a0f",
   "outputs": [],
   "execution_count": 39
  },
  {
   "metadata": {
    "ExecuteTime": {
     "end_time": "2025-06-30T14:32:50.844649Z",
     "start_time": "2025-06-30T14:32:50.840595Z"
    }
   },
   "cell_type": "code",
   "source": [
    "from src.wine_qulity_predction.constants import *\n",
    "from src.wine_qulity_predction.utils.common import  *"
   ],
   "id": "2ada3af486200cc7",
   "outputs": [],
   "execution_count": 40
  },
  {
   "metadata": {
    "ExecuteTime": {
     "end_time": "2025-06-30T14:32:50.857725Z",
     "start_time": "2025-06-30T14:32:50.852989Z"
    }
   },
   "cell_type": "code",
   "source": [
    "class ConfigurationManager :\n",
    "    def __init__(self,config_filepath=CONFIG_FILE_PATH,\n",
    "                 schema_filepath=SCHEMA_FILE_PATH,\n",
    "                 params_filepath=PARAMS_FILE_PATH):\n",
    "        self.config=read_yaml(config_filepath)\n",
    "        self.params=read_yaml(params_filepath)\n",
    "        self.schema=read_yaml(schema_filepath)\n",
    "\n",
    "        create_directories([self.config.artifacts_root])\n",
    "\n",
    "    def get_model_trainer_config(self) ->ModelTrainingConfig:\n",
    "        config=self.config.model_trainer\n",
    "        params=self.params.ElasticNet\n",
    "        schema=self.schema.TARGET\n",
    "\n",
    "\n",
    "        create_directories([config.root_dir])\n",
    "\n",
    "        model_training_config=ModelTrainingConfig(root_dir=config.root_dir,\n",
    "                                                  train_data_path= config.train_data_path,\n",
    "                                                  test_data_path= config.test_data_path,\n",
    "                                                  model_name= config.model_name,\n",
    "                                                  alpha= params.alpha,\n",
    "                                                  l1_ratio= params.l1_ratio,\n",
    "                                                  target_column= schema.name,)\n",
    "        return model_training_config\n",
    "\n"
   ],
   "id": "66c2d55b0a775e0",
   "outputs": [],
   "execution_count": 41
  },
  {
   "metadata": {
    "ExecuteTime": {
     "end_time": "2025-06-30T14:32:50.867767Z",
     "start_time": "2025-06-30T14:32:50.864808Z"
    }
   },
   "cell_type": "code",
   "source": [
    "from sklearn.linear_model import  ElasticNet\n",
    "import  joblib"
   ],
   "id": "5c10b09d8a32a5f2",
   "outputs": [],
   "execution_count": 42
  },
  {
   "metadata": {
    "ExecuteTime": {
     "end_time": "2025-06-30T14:32:50.880337Z",
     "start_time": "2025-06-30T14:32:50.875667Z"
    }
   },
   "cell_type": "code",
   "source": [
    "class ModelTrainer :\n",
    "    def __init__(self,config:ModelTrainingConfig):\n",
    "        self.config=config\n",
    "\n",
    "    def train(self):\n",
    "        train_data=pd.read_csv(self.config.train_data_path)\n",
    "        test_data=pd.read_csv(self.config.test_data_path)\n",
    "\n",
    "        train_x=train_data.drop([self.config.target_column],axis=1)\n",
    "        train_y=train_data[[self.config.target_column]]\n",
    "\n",
    "        test_x=test_data.drop([self.config.target_column],axis=1)\n",
    "        test_y=test_data[[self.config.target_column]]\n",
    "\n",
    "        lr=ElasticNet(alpha=self.config.alpha,l1_ratio=self.config.l1_ratio,random_state=42)\n",
    "        lr.fit(train_x,train_y)\n",
    "\n",
    "        joblib.dump(lr,os.path.join(self.config.root_dir,self.config.model_name))\n",
    "\n",
    "\n",
    "\n"
   ],
   "id": "a391805bb68d50e6",
   "outputs": [],
   "execution_count": 43
  },
  {
   "metadata": {
    "ExecuteTime": {
     "end_time": "2025-06-30T14:32:50.906642Z",
     "start_time": "2025-06-30T14:32:50.887943Z"
    }
   },
   "cell_type": "code",
   "source": [
    "try:\n",
    "    config=ConfigurationManager()\n",
    "    model_training_config=config.get_model_trainer_config()\n",
    "    model_trainer=ModelTrainer(config=model_training_config)\n",
    "    model_trainer.train()\n",
    "\n",
    "except Exception as e:\n",
    "    raise e"
   ],
   "id": "4f7de07b91efe562",
   "outputs": [
    {
     "name": "stdout",
     "output_type": "stream",
     "text": [
      "[2025-06-30 20:02:50,887 : INFO : common : yaml file : config\\config.yml loadded successfully] \n",
      "[2025-06-30 20:02:50,892 : INFO : common : yaml file : params.yml loadded successfully] \n",
      "[2025-06-30 20:02:50,894 : INFO : common : yaml file : schema.yml loadded successfully] \n",
      "[2025-06-30 20:02:50,894 : INFO : common : Created directory at artifacts] \n",
      "[2025-06-30 20:02:50,895 : INFO : common : Created directory at artifacts/model_trainer] \n"
     ]
    }
   ],
   "execution_count": 44
  },
  {
   "metadata": {
    "ExecuteTime": {
     "end_time": "2025-06-30T14:32:50.917598Z",
     "start_time": "2025-06-30T14:32:50.914980Z"
    }
   },
   "cell_type": "code",
   "source": "",
   "id": "59e93171bc113045",
   "outputs": [],
   "execution_count": null
  }
 ],
 "metadata": {
  "kernelspec": {
   "display_name": "Python 3",
   "language": "python",
   "name": "python3"
  },
  "language_info": {
   "codemirror_mode": {
    "name": "ipython",
    "version": 3
   },
   "file_extension": ".py",
   "mimetype": "text/x-python",
   "name": "python",
   "nbconvert_exporter": "python",
   "pygments_lexer": "ipython3",
   "version": "3.10.0"
  }
 },
 "nbformat": 4,
 "nbformat_minor": 5
}
